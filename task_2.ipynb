{
  "nbformat": 4,
  "nbformat_minor": 0,
  "metadata": {
    "colab": {
      "provenance": [],
      "gpuType": "T4"
    },
    "kernelspec": {
      "name": "python3",
      "display_name": "Python 3"
    },
    "language_info": {
      "name": "python"
    },
    "accelerator": "GPU"
  },
  "cells": [
    {
      "cell_type": "code",
      "execution_count": null,
      "metadata": {
        "id": "N3kiCp1SWG8v"
      },
      "outputs": [],
      "source": [
        "import pandas as pd\n",
        "from transformers import GPT2Tokenizer, pipeline"
      ]
    },
    {
      "cell_type": "code",
      "source": [
        "X_test = pd.read_csv(\"/content/Dataset for Detection of Cyber-Aggression - Dataset for Detection of Cyber-Aggression.csv\")"
      ],
      "metadata": {
        "id": "2rpA6P2UXuqh"
      },
      "execution_count": null,
      "outputs": []
    },
    {
      "cell_type": "code",
      "source": [
        "tokenizer = GPT2Tokenizer.from_pretrained('gpt2')"
      ],
      "metadata": {
        "id": "OpEbm0cjWaTM"
      },
      "execution_count": null,
      "outputs": []
    },
    {
      "cell_type": "code",
      "source": [
        "# Load the zero-shot classification pipeline with GPT-2\n",
        "classifier = pipeline(\"zero-shot-classification\", model=\"gpt2\")\n"
      ],
      "metadata": {
        "colab": {
          "base_uri": "https://localhost:8080/"
        },
        "id": "D-812RikWiMz",
        "outputId": "3733234d-7753-4bb6-dc73-5b819b92a3b6"
      },
      "execution_count": null,
      "outputs": [
        {
          "output_type": "stream",
          "name": "stderr",
          "text": [
            "Some weights of GPT2ForSequenceClassification were not initialized from the model checkpoint at gpt2 and are newly initialized: ['score.weight']\n",
            "You should probably TRAIN this model on a down-stream task to be able to use it for predictions and inference.\n",
            "Failed to determine 'entailment' label id from the label2id mapping in the model config. Setting to -1. Define a descriptive label2id mapping in the model config to ensure correct outputs.\n"
          ]
        }
      ]
    },
    {
      "cell_type": "code",
      "source": [
        "labels = [\"AG\", \"NAG\"]\n"
      ],
      "metadata": {
        "id": "diilodC1W3A_"
      },
      "execution_count": null,
      "outputs": []
    },
    {
      "cell_type": "code",
      "source": [
        "from transformers import pipeline\n"
      ],
      "metadata": {
        "id": "XQAO_6ZEXJGh"
      },
      "execution_count": null,
      "outputs": []
    },
    {
      "cell_type": "code",
      "source": [
        "classifier = pipeline(\"zero-shot-classification\", model=\"facebook/bart-large-mnli\", device=-1)\n"
      ],
      "metadata": {
        "id": "MAEKaqadY8O6"
      },
      "execution_count": null,
      "outputs": []
    },
    {
      "cell_type": "code",
      "source": [
        "# Perform zero-shot inference on the test split\n",
        "results = []\n",
        "for text in X_test: # Assuming X_test is your test data\n",
        "    result = classifier(text, labels)\n",
        "    predicted_label = result['labels'][0]\n",
        "    confidence = result['scores'][0]\n",
        "    results.append({\n",
        "        'text': text,\n",
        "        'predicted_label': predicted_label,\n",
        "        'confidence': confidence\n",
        "    })"
      ],
      "metadata": {
        "id": "5G2nDs5WZk-V"
      },
      "execution_count": null,
      "outputs": []
    },
    {
      "cell_type": "code",
      "source": [
        "# Convert results to a DataFrame\n",
        "results_df = pd.DataFrame(results)"
      ],
      "metadata": {
        "id": "QMVUezn4kI-X"
      },
      "execution_count": null,
      "outputs": []
    },
    {
      "cell_type": "code",
      "source": [
        "for result in results:\n",
        "    print(f\"Text: {result['text']}\")\n",
        "    print(f\"Predicted Label: {result['predicted_label']}\")\n",
        "    print(f\"Confidence: {result['confidence']}\")"
      ],
      "metadata": {
        "colab": {
          "base_uri": "https://localhost:8080/"
        },
        "id": "6yY5fyEzmcJD",
        "outputId": "f5cd6867-7059-4bec-c5ae-971a5731bf64"
      },
      "execution_count": null,
      "outputs": [
        {
          "output_type": "stream",
          "name": "stdout",
          "text": [
            "Text: Text\n",
            "Predicted Label: NAG\n",
            "Confidence: 0.562080442905426\n",
            "Text: label\n",
            "Predicted Label: NAG\n",
            "Confidence: 0.5888488292694092\n"
          ]
        }
      ]
    }
  ]
}